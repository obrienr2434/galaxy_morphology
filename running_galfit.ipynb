{
 "cells": [
  {
   "cell_type": "code",
   "execution_count": 1,
   "metadata": {
    "collapsed": true
   },
   "outputs": [],
   "source": [
    "from astropy.io import ascii\n",
    "import numpy as np\n",
    "import pandas as pd\n",
    "import subprocess\n",
    "import os"
   ]
  },
  {
   "cell_type": "code",
   "execution_count": 2,
   "metadata": {
    "collapsed": true
   },
   "outputs": [],
   "source": [
    "#Get position for a SINGLE gid in format 'x y' for using in the .feedme file position\n",
    "def get_position(field, gid):\n",
    "    '''\n",
    "    Gets positions of objects in fitting region in pixel coord\n",
    "    \n",
    "    Parameters:\n",
    "    -----------\n",
    "    field : string\n",
    "        GOODS_South or GOODS_North\n",
    "    gid : float\n",
    "        ID number of object\n",
    "    '''\n",
    "    \n",
    "#     Define catalog based on the field its in\n",
    "    if field == 'S':\n",
    "        catalog = '/Users/rosaliaobrien/research/website/catalogs/goodss_3dhst.v4.4.cat'\n",
    "        \n",
    "    if field == 'N':\n",
    "        catalog = '/Users/rosaliaobrien/research/website/catalogs/goodsn_3dhst.v4.4.cat'\n",
    "    \n",
    "    #Return x and y coordinates (with a space) of single gid\n",
    "    cat = ascii.read(catalog)\n",
    "    x = cat[cat['id']==gid]['x'].data[0]\n",
    "    y = cat[cat['id']==gid]['y'].data[0]\n",
    "#     print('G'+field+'D'+str(gid)+' coordinates:', x, y)\n",
    "    coord = str(x)+' '+str(y)\n",
    "    return coord"
   ]
  },
  {
   "cell_type": "code",
   "execution_count": 3,
   "metadata": {
    "collapsed": true
   },
   "outputs": [],
   "source": [
    "#Get positions for a LIST of gids so that we can determine the boundaries for the cutoutsize of the .feedme file\n",
    "def get_positions(gids, fields):\n",
    "    \n",
    "    x=[]\n",
    "    y=[]\n",
    "    \n",
    "    for gid, field in zip(gids, fields):\n",
    "        \n",
    "        if field == 'S':\n",
    "            #Find catalog\n",
    "            catalog = '/Users/rosaliaobrien/research/website/catalogs/goodss_3dhst.v4.4.cat'\n",
    "\n",
    "        if field == 'N':\n",
    "            #Find catalog\n",
    "            catalog = '/Users/rosaliaobrien/research/website/catalogs/goodsn_3dhst.v4.4.cat'\n",
    "         \n",
    "        cat = ascii.read(catalog)\n",
    "        xt = cat[cat['id']==gid]['x'].data[0]\n",
    "        yt = cat[cat['id']==gid]['y'].data[0]\n",
    "        x.append(xt)\n",
    "        y.append(yt)\n",
    "        \n",
    "    return x, y"
   ]
  },
  {
   "cell_type": "code",
   "execution_count": 26,
   "metadata": {
    "collapsed": true
   },
   "outputs": [],
   "source": [
    "#Get boundaries for .feedme file (with 100pixel border at each edge)\n",
    "def get_boundaries(gids, field):\n",
    "    \n",
    "    field = [field]*len(gids)\n",
    "    \n",
    "    x, y = get_positions(gids, field)\n",
    "\n",
    "    d = {'gid':gids, 'field':field, 'xpos':x, 'ypos':y}\n",
    "    df = pd.DataFrame(data=d)\n",
    "\n",
    "    xmin = int(df['xpos'].min())-100\n",
    "    ymin = int(df['ypos'].min())-100\n",
    "    xmax = int(df['xpos'].max())+100\n",
    "    ymax = int(df['ypos'].max())+100\n",
    "    \n",
    "    return xmin, xmax, ymin, ymax"
   ]
  },
  {
   "cell_type": "code",
   "execution_count": 123,
   "metadata": {
    "collapsed": true
   },
   "outputs": [],
   "source": [
    "#Get objects nearby objects being fit to improve the fit\n",
    "def get_nearby_objects(gid, field):\n",
    "    \n",
    "    if field == 'S':\n",
    "        #Find catalog\n",
    "        catalog = '/Users/rosaliaobrien/research/website/catalogs/goodss_3dhst.v4.4.cat'\n",
    "        cat = ascii.read(catalog)\n",
    "        \n",
    "    if field == 'N':\n",
    "        #Find catalog\n",
    "        catalog = '/Users/rosaliaobrien/research/website/catalogs/goodsn_3dhst.v4.4.cat'\n",
    "        cat = ascii.read(catalog)\n",
    "        \n",
    "    x = cat[cat['id']==gid]['x']\n",
    "    y = cat[cat['id']==gid]['y']\n",
    "    \n",
    "    objects = cat[(x-70<cat['x']) & (cat['x']<x+70) & (y-70<cat['y']) & (cat['y']<y+70)]\n",
    "    o = objects['id'].data\n",
    "    \n",
    "    for i in o:\n",
    "        if len(str(i)) > 5:\n",
    "            o = np.delete(o, np.where(o==i)[0][0])\n",
    "        \n",
    "    return o"
   ]
  },
  {
   "cell_type": "code",
   "execution_count": 28,
   "metadata": {
    "collapsed": true
   },
   "outputs": [],
   "source": [
    "#Write intro of .feedme file\n",
    "def write_intro(gids, field, flter, outputfile):\n",
    "    \n",
    "    outputfilefits = outputfile+'.fits'\n",
    "    \n",
    "    xmin, xmax, ymin, ymax = get_boundaries(gids, field)\n",
    "    \n",
    "    if field =='S':\n",
    "        fitsfile = 'goodss_3dhst.v4.0.F'+flter+'W_orig_sci.fits'\n",
    "        inputpsf = 'goodss_3dhst.v4.0.F'+flter+'W_psf.fits'\n",
    "        psffine = 'goodss_3dhst.v4.0.F'+flter+'W_orig_wht.fits'\n",
    "        \n",
    "    if field =='N':\n",
    "        fitsfile = 'goodsn_3dhst.v4.0.F'+flter+'W_orig_sci.fits'\n",
    "        inputpsf = 'goodsn_3dhst.v4.0.F'+flter+'W_psf.fits'\n",
    "        psffine = 'goodsn_3dhst.v4.0.F'+flter+'W_orig_wht.fits'\n",
    "        \n",
    "    \n",
    "    text = '''================================================================================\\n\\\n",
    "# IMAGE and GALFIT CONTROL PARAMETERS\\n\\\n",
    "A) {0}           # Input data image (FITS file)\\n\\\n",
    "B) {1}     \t\t\t\t\t  # Output data image block\\n\\\n",
    "C) none              \t\t\t\t\t  # Sigma image name (made from data if blank or \"none\") \\n\\\n",
    "D) {2}       # Input PSF image and (optional) diffusion kernel\\n\n",
    "E) none                                   # PSF fine sampling factor relative to data\\n \n",
    "F) none              \t\t\t\t\t  # Bad pixel mask (FITS image or ASCII coord list)\\n\\\n",
    "G) none               \t\t\t\t\t  # File with parameter constraints (ASCII file) \\n\\\n",
    "H) {4} {5} {6} {7}       # Image region to fit (xmin xmax ymin ymax)\\n\\\n",
    "I) 100    100        \t\t\t\t\t  # Size of the convolution box (x y)\\n\\\n",
    "J) 25.7551            \t\t\t\t\t  # Magnitude photometric zeropoint \\n\\\n",
    "K) 0.038  0.038      \t\t\t\t\t  # Plate scale (dx dy)   [arcsec per pixel]\\n\\\n",
    "O) regular           \t\t\t\t\t  # Display type (regular, curses, both)\\n\\\n",
    "P) 0                 \t\t\t\t\t  # Options: 0=normal run; 1,2=make model/imgblock & quit\n",
    "\\n'''.format(fitsfile, outputfilefits, inputpsf, psffine, xmin, xmax, ymin, ymax)\n",
    "    \n",
    "    return text"
   ]
  },
  {
   "cell_type": "code",
   "execution_count": 22,
   "metadata": {
    "collapsed": true
   },
   "outputs": [],
   "source": [
    "#Print out object info for .feedme file\n",
    "def write_object(gid, field, coord, outputfile):\n",
    "\n",
    "    if field == 'S':\n",
    "        #Find catalog\n",
    "        catalog = '/Users/rosaliaobrien/research/website/catalogs/goodss_3dhst.v4.4.cat'\n",
    "        cat = ascii.read(catalog)\n",
    "        \n",
    "    if field == 'N':\n",
    "        #Find catalog\n",
    "        catalog = '/Users/rosaliaobrien/research/website/catalogs/goodsn_3dhst.v4.4.cat'\n",
    "        cat = ascii.read(catalog)\n",
    "    \n",
    "    #Estimate effective radius from catalog\n",
    "    radius = cat[cat['id']==gid]['flux_radius'].data[0]/2\n",
    "    \n",
    "    #Estimate axis raio from catalog and round to 2 decimal places\n",
    "    axis_ratio = '{:.2f}'.format(cat[cat['id']==gid]['b_image'].data[0]/cat[cat['id']==gid]['a_image'].data[0])\n",
    "    \n",
    "    #Print text for .feedme file\n",
    "    text='#ID: {0} \\n\\\n",
    "0) sersic            \t\t    # Object type \\n\\\n",
    " 1) {1}  1 1                    # position x, y        [pixel]\\n\\\n",
    " 3) 20     1    \t\t        # total magnitude    \\n\\\n",
    " 4) {2}  1    \t\t        #     R_e              [Pixels]\\n\\\n",
    " 5) 2.00   1                    # Sersic exponent (deVauc=4, expdisk=1)  \\n\\\n",
    " 9) {3}   1                    # axis ratio (b/a)   \\n\\\n",
    "10) 45     1                    # position angle (PA)  [Degrees: Up=0, Left=90] \\n\\\n",
    "\\n'.format(gid, coord, radius, axis_ratio)\n",
    "\n",
    "    with open(outputfile+'.feedme', \"a\") as myfile:\n",
    "        myfile.write(text)"
   ]
  },
  {
   "cell_type": "code",
   "execution_count": 23,
   "metadata": {
    "collapsed": true
   },
   "outputs": [],
   "source": [
    "#Write .feedme file for object and it's nearby objects\n",
    "def write_feedme(gid, field, flter, outputfile):\n",
    "    \n",
    "    nearby_objects = get_nearby_objects(gid, field)\n",
    "    objects = nearby_objects\n",
    "    fields = [field]*len(objects)\n",
    "    \n",
    "    print('Writing intro...')\n",
    "    text = write_intro(objects, field, flter, outputfile)\n",
    "    save = outputfile+'.feedme'\n",
    "    np.savetxt(save, np.array(text).reshape(1, ), fmt='%s')\n",
    "    \n",
    "#     coord = get_positions(fields, objects)\n",
    "#     write_object(gid, field, coord, outputfile)\n",
    "\n",
    "#     print('Creating object number', gids.index(i)+1)\n",
    "\n",
    "#     objects.append(i)\n",
    "\n",
    "    for i in objects:\n",
    "        coord = get_position(field, i)\n",
    "        write_object(i, field, coord, outputfile)\n",
    "\n",
    "        print('Writing object '+str(i)+'...')\n",
    "#         objects.append(ii)\n",
    "            \n",
    "#     print('Number of objects:', len(objects))"
   ]
  },
  {
   "cell_type": "code",
   "execution_count": 9,
   "metadata": {
    "collapsed": true
   },
   "outputs": [],
   "source": [
    "# catalogs = '/Users/rosaliaobrien/research/website/catalogs/goodss_3dhst.v4.4.cat'\n",
    "# catalogn = '/Users/rosaliaobrien/research/website/catalogs/goodsn_3dhst.v4.4.cat'\n",
    "# cats = ascii.read(catalogs)\n",
    "# catn = ascii.read(catalogn)"
   ]
  },
  {
   "cell_type": "code",
   "execution_count": 136,
   "metadata": {
    "collapsed": true
   },
   "outputs": [],
   "source": [
    "#Objects from Vince's paper\n",
    "\n",
    "gids = [23758, 37955, 16758, 43615, 42221, 39241, 45972, 44620, \n",
    "        39631, 39170, 34694, 23435, 47677, 39805, 38785, 32566, \n",
    "        40476, 21156, 17070, 35774, 40597, 37686, 46066, 40862, \n",
    "        39804, 21427, 40623, 41520, 40223, 39012, 44042]\n",
    "\n",
    "fields = ['N', 'N', 'N', 'S', 'S', 'S', 'S', 'S',\n",
    "          'S', 'S', 'N', 'N', 'S', 'S', 'S', 'N', \n",
    "          'S', 'N', 'N', 'S', 'S', 'N', 'S', 'S', \n",
    "          'S', 'N', 'S', 'S', 'S', 'S', 'S']"
   ]
  },
  {
   "cell_type": "code",
   "execution_count": 137,
   "metadata": {
    "collapsed": true
   },
   "outputs": [],
   "source": [
    "#Separate GOODS N and GOODS S\n",
    "\n",
    "gidsn =[]\n",
    "gidss =[]\n",
    "\n",
    "for field, gid in zip(fields, gids):\n",
    "    if field == 'N':\n",
    "        gidsn.append(gid)\n",
    "        \n",
    "    else:\n",
    "        gidss.append(gid)"
   ]
  },
  {
   "cell_type": "code",
   "execution_count": 149,
   "metadata": {},
   "outputs": [],
   "source": [
    "def run_galfit(gids, field, flter, write_files=False):\n",
    "    #Field must be 'S' or 'N'\n",
    "    if not (field == 'S' or field == 'N'):\n",
    "        raise Exception('Field must be S or N.')\n",
    "        \n",
    "    if not type(flter) == str:\n",
    "        raise Exception('Filter must be string.')\n",
    "    \n",
    "    os.chdir('/Users/rosaliaobrien/research/science_project/gal_morphology/North/'+flter+'/')\n",
    "    galfit = '/Users/rosaliaobrien/Bin/galfit'\n",
    "\n",
    "    #Run for all gids in specfic field\n",
    "    for gid in gids:\n",
    "        print('\\n***RUNNING OBJECT '+str(gid)+'***')\n",
    "\n",
    "        if write_files == True:\n",
    "            #write each feedme file\n",
    "            write_feedme(gid, field, flter, str(gid))\n",
    "            \n",
    "        else:\n",
    "            os.rename(field+'/'+str(gid)+'.feedme', str(gid)+'.feedme')\n",
    "\n",
    "        print('Running GALFIT...')\n",
    "        #run galfit for each feedme file!\n",
    "        subprocess.call([galfit, str(gid)+'.feedme'])\n",
    "\n",
    "        if not os.path.exists(field):\n",
    "            os.mkdir(field)\n",
    "            \n",
    "        if not os.path.exists(field+'/fits'):\n",
    "            os.mkdir(field+'/fits')\n",
    "            \n",
    "        if not os.path.exists(field+'/'+str(gid)):\n",
    "            os.mkdir(field+'/'+str(gid))\n",
    "        \n",
    "        feedme = str(gid)+'.feedme'\n",
    "        fits = str(gid)+'.fits'\n",
    "        galfitrun = 'galfit.01'\n",
    "        \n",
    "        if os.path.exists(fits):\n",
    "            os.rename(str(gid)+'.fits', field+'/fits/'+str(gid)+'.fits')\n",
    "            \n",
    "        if os.path.exists(feedme):\n",
    "            os.rename(str(gid)+'.feedme', field+'/'+str(gid)+'/'+str(gid)+'.feedme')\n",
    "            \n",
    "        if os.path.exists(galfitrun):\n",
    "            galfitrun = os.rename('galfit.01', field+'/'+str(gid)+'/galfit.01')"
   ]
  },
  {
   "cell_type": "code",
   "execution_count": 150,
   "metadata": {
    "scrolled": true
   },
   "outputs": [
    {
     "name": "stdout",
     "output_type": "stream",
     "text": [
      "\n",
      "***RUNNING OBJECT 23758***\n",
      "Running GALFIT...\n",
      "\n",
      "***RUNNING OBJECT 37955***\n",
      "Running GALFIT...\n",
      "\n",
      "***RUNNING OBJECT 16758***\n",
      "Running GALFIT...\n",
      "\n",
      "***RUNNING OBJECT 34694***\n",
      "Running GALFIT...\n",
      "\n",
      "***RUNNING OBJECT 23435***\n",
      "Running GALFIT...\n",
      "\n",
      "***RUNNING OBJECT 32566***\n",
      "Running GALFIT...\n",
      "\n",
      "***RUNNING OBJECT 21156***\n",
      "Running GALFIT...\n",
      "\n",
      "***RUNNING OBJECT 17070***\n",
      "Running GALFIT...\n",
      "\n",
      "***RUNNING OBJECT 37686***\n",
      "Running GALFIT...\n",
      "\n",
      "***RUNNING OBJECT 21427***\n",
      "Running GALFIT...\n"
     ]
    }
   ],
   "source": [
    "run_galfit(gidsn, 'N', '160', write_files=True)"
   ]
  }
 ],
 "metadata": {
  "kernelspec": {
   "display_name": "Python 3",
   "language": "python",
   "name": "python3"
  },
  "language_info": {
   "codemirror_mode": {
    "name": "ipython",
    "version": 3
   },
   "file_extension": ".py",
   "mimetype": "text/x-python",
   "name": "python",
   "nbconvert_exporter": "python",
   "pygments_lexer": "ipython3",
   "version": "3.6.9"
  }
 },
 "nbformat": 4,
 "nbformat_minor": 2
}
