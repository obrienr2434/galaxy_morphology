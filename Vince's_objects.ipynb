{
 "cells": [
  {
   "cell_type": "code",
   "execution_count": 1,
   "metadata": {
    "collapsed": true
   },
   "outputs": [],
   "source": [
    "from astropy.io import ascii"
   ]
  },
  {
   "cell_type": "code",
   "execution_count": 2,
   "metadata": {},
   "outputs": [],
   "source": [
    "def get_position(field, gid):\n",
    "    '''\n",
    "    Gets positions of objects in fitting region in pixel coord\n",
    "    \n",
    "    Parameters:\n",
    "    -----------\n",
    "    field : string\n",
    "        GOODS_South or GOODS_North\n",
    "    gid : float\n",
    "        ID number of object\n",
    "    '''\n",
    "    \n",
    "    if field == 'S':\n",
    "        catalog = '/Users/rosaliaobrien/research/website/catalogs/goodss_3dhst.v4.4.cat'\n",
    "        \n",
    "    if field == 'N':\n",
    "        catalog = '/Users/rosaliaobrien/research/website/catalogs/goodsn_3dhst.v4.4.cat'\n",
    "        \n",
    "    cat = ascii.read(catalog)\n",
    "    x = cat[cat['id']==gid]['x'].data[0]\n",
    "    y = cat[cat['id']==gid]['y'].data[0]\n",
    "    print('G'+field+'D'+str(gid)+' coordinates:', x, y)\n",
    "    coord = str(x)+' '+str(y)\n",
    "    return coord"
   ]
  },
  {
   "cell_type": "code",
   "execution_count": 3,
   "metadata": {
    "collapsed": true
   },
   "outputs": [],
   "source": [
    "gids = [23758, 37955, 16758, 43615, 42221, 39241, 45972, 44620, \n",
    "        39631, 39170, 34694, 23435, 47677, 39805, 38785, 32566, \n",
    "        40476, 21156, 17070, 35774, 40597, 37686, 46066, 40862, \n",
    "        39804, 21427, 40623, 41520, 40223, 39012, 44042]"
   ]
  },
  {
   "cell_type": "code",
   "execution_count": 4,
   "metadata": {
    "collapsed": true
   },
   "outputs": [],
   "source": [
    "fields = ['N', 'N', 'N', 'S', 'S', 'S', 'S', 'S',\n",
    "          'S', 'S', 'N', 'N', 'S', 'S', 'S', 'N', \n",
    "          'S', 'N', 'N', 'S', 'S', 'N', 'S', 'S', \n",
    "          'S', 'N', 'S', 'S', 'S', 'S', 'S']"
   ]
  },
  {
   "cell_type": "code",
   "execution_count": 6,
   "metadata": {},
   "outputs": [
    {
     "name": "stdout",
     "output_type": "stream",
     "text": [
      "GND23758 coordinates: 10637.584 11547.309\n",
      "GND37955 coordinates: 7301.979 18196.992\n",
      "GND16758 coordinates: 12193.258 9417.512\n",
      "GND34694 coordinates: 12591.752 15346.387\n",
      "GND23435 coordinates: 7276.912 11323.02\n",
      "GND32566 coordinates: 12218.201 14381.773\n",
      "GND21156 coordinates: 10039.104 10779.071\n",
      "GND17070 coordinates: 9237.121 9513.218\n",
      "GND37686 coordinates: 9064.217 17575.82\n",
      "GND21427 coordinates: 6442.956 10771.017\n"
     ]
    }
   ],
   "source": [
    "for gid, field in zip(gids, fields):\n",
    "    if field == 'N':\n",
    "        get_position(field, gid)"
   ]
  },
  {
   "cell_type": "code",
   "execution_count": 7,
   "metadata": {},
   "outputs": [
    {
     "name": "stdout",
     "output_type": "stream",
     "text": [
      "GSD43615 coordinates: 11877.843 16463.58\n",
      "GSD42221 coordinates: 12612.027 16193.271\n",
      "GSD39241 coordinates: 14571.896 15331.88\n",
      "GSD45972 coordinates: 10660.026 17291.75\n",
      "GSD44620 coordinates: 3559.556 16779.516\n",
      "GSD39631 coordinates: 14580.28 15348.768\n",
      "GSD39170 coordinates: 14598.496 15352.329\n",
      "GSD47677 coordinates: 2901.436 17736.871\n",
      "GSD39805 coordinates: 8150.213 15422.025\n",
      "GSD38785 coordinates: 7884.088 15267.404\n",
      "GSD40476 coordinates: 11070.037 15590.383\n",
      "GSD35774 coordinates: 8387.51 14362.438\n",
      "GSD40597 coordinates: 8935.456 15737.405\n",
      "GSD46066 coordinates: 13579.057 17294.949\n",
      "GSD40862 coordinates: 14269.775 15720.051\n",
      "GSD39804 coordinates: 7343.65 15426.779\n",
      "GSD40623 coordinates: 9890.014 15636.733\n",
      "GSD41520 coordinates: 8708.345 15930.595\n",
      "GSD40223 coordinates: 10183.379 15528.433\n",
      "GSD39012 coordinates: 13408.009 15247.82\n",
      "GSD44042 coordinates: 11266.275 16580.523\n"
     ]
    }
   ],
   "source": [
    "for gid, field in zip(gids, fields):\n",
    "    if field == 'S':\n",
    "        get_position(field, gid)"
   ]
  },
  {
   "cell_type": "markdown",
   "metadata": {},
   "source": [
    "Chosen Objects: GSD43615, GSD42221, GSD44042"
   ]
  },
  {
   "cell_type": "code",
   "execution_count": 9,
   "metadata": {
    "collapsed": true
   },
   "outputs": [],
   "source": [
    "def write_object(gid, coord):\n",
    "    text='#ID: {0} \\n\\\n",
    "0) sersic            \t\t    # Object type \\n\\\n",
    " 1) {1}  0 0                    # position x, y        [pixel]\\n\\\n",
    " 3) 20     0    \t\t        # total magnitude    \\n\\\n",
    " 4) 3.5    0    \t\t        #     R_e              [Pixels]\\n\\\n",
    " 5) 2.00   0                    # Sersic exponent (deVauc=4, expdisk=1)  \\n\\\n",
    " 9) 0.49   0                    # axis ratio (b/a)   \\n\\\n",
    "10) 59.14  0                    # position angle (PA)  [Degrees: Up=0, Left=90] \\n\\\n",
    "                           '.format(gid, coord)\n",
    "        \n",
    "    print(text)"
   ]
  },
  {
   "cell_type": "code",
   "execution_count": 11,
   "metadata": {
    "scrolled": true
   },
   "outputs": [
    {
     "name": "stdout",
     "output_type": "stream",
     "text": [
      "GND23758 coordinates: 10637.584 11547.309\n",
      "#ID: 23758 \n",
      "0) sersic            \t\t    # Object type \n",
      " 1) 10637.584 11547.309  0 0                    # position x, y        [pixel]\n",
      " 3) 20     0    \t\t        # total magnitude    \n",
      " 4) 3.5    0    \t\t        #     R_e              [Pixels]\n",
      " 5) 2.00   0                    # Sersic exponent (deVauc=4, expdisk=1)  \n",
      " 9) 0.49   0                    # axis ratio (b/a)   \n",
      "10) 59.14  0                    # position angle (PA)  [Degrees: Up=0, Left=90] \n",
      "                           \n",
      "GND37955 coordinates: 7301.979 18196.992\n",
      "#ID: 37955 \n",
      "0) sersic            \t\t    # Object type \n",
      " 1) 7301.979 18196.992  0 0                    # position x, y        [pixel]\n",
      " 3) 20     0    \t\t        # total magnitude    \n",
      " 4) 3.5    0    \t\t        #     R_e              [Pixels]\n",
      " 5) 2.00   0                    # Sersic exponent (deVauc=4, expdisk=1)  \n",
      " 9) 0.49   0                    # axis ratio (b/a)   \n",
      "10) 59.14  0                    # position angle (PA)  [Degrees: Up=0, Left=90] \n",
      "                           \n",
      "GND16758 coordinates: 12193.258 9417.512\n",
      "#ID: 16758 \n",
      "0) sersic            \t\t    # Object type \n",
      " 1) 12193.258 9417.512  0 0                    # position x, y        [pixel]\n",
      " 3) 20     0    \t\t        # total magnitude    \n",
      " 4) 3.5    0    \t\t        #     R_e              [Pixels]\n",
      " 5) 2.00   0                    # Sersic exponent (deVauc=4, expdisk=1)  \n",
      " 9) 0.49   0                    # axis ratio (b/a)   \n",
      "10) 59.14  0                    # position angle (PA)  [Degrees: Up=0, Left=90] \n",
      "                           \n"
     ]
    },
    {
     "ename": "IndexError",
     "evalue": "index 0 is out of bounds for axis 0 with size 0",
     "output_type": "error",
     "traceback": [
      "\u001b[0;31m---------------------------------------------------------------------------\u001b[0m",
      "\u001b[0;31mIndexError\u001b[0m                                Traceback (most recent call last)",
      "\u001b[0;32m<ipython-input-11-6b6f6e11b71b>\u001b[0m in \u001b[0;36m<module>\u001b[0;34m()\u001b[0m\n\u001b[1;32m      1\u001b[0m \u001b[0;32mfor\u001b[0m \u001b[0mi\u001b[0m \u001b[0;32min\u001b[0m \u001b[0mgids\u001b[0m\u001b[0;34m:\u001b[0m\u001b[0;34m\u001b[0m\u001b[0m\n\u001b[0;32m----> 2\u001b[0;31m     \u001b[0mcoord\u001b[0m \u001b[0;34m=\u001b[0m \u001b[0mget_position\u001b[0m\u001b[0;34m(\u001b[0m\u001b[0;34m'N'\u001b[0m\u001b[0;34m,\u001b[0m \u001b[0mi\u001b[0m\u001b[0;34m)\u001b[0m\u001b[0;34m\u001b[0m\u001b[0m\n\u001b[0m\u001b[1;32m      3\u001b[0m     \u001b[0mwrite_object\u001b[0m\u001b[0;34m(\u001b[0m\u001b[0mi\u001b[0m\u001b[0;34m,\u001b[0m \u001b[0mcoord\u001b[0m\u001b[0;34m)\u001b[0m\u001b[0;34m\u001b[0m\u001b[0m\n",
      "\u001b[0;32m<ipython-input-2-03753c4f491f>\u001b[0m in \u001b[0;36mget_position\u001b[0;34m(field, gid)\u001b[0m\n\u001b[1;32m     18\u001b[0m \u001b[0;34m\u001b[0m\u001b[0m\n\u001b[1;32m     19\u001b[0m     \u001b[0mcat\u001b[0m \u001b[0;34m=\u001b[0m \u001b[0mascii\u001b[0m\u001b[0;34m.\u001b[0m\u001b[0mread\u001b[0m\u001b[0;34m(\u001b[0m\u001b[0mcatalog\u001b[0m\u001b[0;34m)\u001b[0m\u001b[0;34m\u001b[0m\u001b[0m\n\u001b[0;32m---> 20\u001b[0;31m     \u001b[0mx\u001b[0m \u001b[0;34m=\u001b[0m \u001b[0mcat\u001b[0m\u001b[0;34m[\u001b[0m\u001b[0mcat\u001b[0m\u001b[0;34m[\u001b[0m\u001b[0;34m'id'\u001b[0m\u001b[0;34m]\u001b[0m\u001b[0;34m==\u001b[0m\u001b[0mgid\u001b[0m\u001b[0;34m]\u001b[0m\u001b[0;34m[\u001b[0m\u001b[0;34m'x'\u001b[0m\u001b[0;34m]\u001b[0m\u001b[0;34m.\u001b[0m\u001b[0mdata\u001b[0m\u001b[0;34m[\u001b[0m\u001b[0;36m0\u001b[0m\u001b[0;34m]\u001b[0m\u001b[0;34m\u001b[0m\u001b[0m\n\u001b[0m\u001b[1;32m     21\u001b[0m     \u001b[0my\u001b[0m \u001b[0;34m=\u001b[0m \u001b[0mcat\u001b[0m\u001b[0;34m[\u001b[0m\u001b[0mcat\u001b[0m\u001b[0;34m[\u001b[0m\u001b[0;34m'id'\u001b[0m\u001b[0;34m]\u001b[0m\u001b[0;34m==\u001b[0m\u001b[0mgid\u001b[0m\u001b[0;34m]\u001b[0m\u001b[0;34m[\u001b[0m\u001b[0;34m'y'\u001b[0m\u001b[0;34m]\u001b[0m\u001b[0;34m.\u001b[0m\u001b[0mdata\u001b[0m\u001b[0;34m[\u001b[0m\u001b[0;36m0\u001b[0m\u001b[0;34m]\u001b[0m\u001b[0;34m\u001b[0m\u001b[0m\n\u001b[1;32m     22\u001b[0m     \u001b[0mprint\u001b[0m\u001b[0;34m(\u001b[0m\u001b[0;34m'G'\u001b[0m\u001b[0;34m+\u001b[0m\u001b[0mfield\u001b[0m\u001b[0;34m+\u001b[0m\u001b[0;34m'D'\u001b[0m\u001b[0;34m+\u001b[0m\u001b[0mstr\u001b[0m\u001b[0;34m(\u001b[0m\u001b[0mgid\u001b[0m\u001b[0;34m)\u001b[0m\u001b[0;34m+\u001b[0m\u001b[0;34m' coordinates:'\u001b[0m\u001b[0;34m,\u001b[0m \u001b[0mx\u001b[0m\u001b[0;34m,\u001b[0m \u001b[0my\u001b[0m\u001b[0;34m)\u001b[0m\u001b[0;34m\u001b[0m\u001b[0m\n",
      "\u001b[0;31mIndexError\u001b[0m: index 0 is out of bounds for axis 0 with size 0"
     ]
    }
   ],
   "source": [
    "for i in gids:\n",
    "    coord = get_position('N', i)\n",
    "    write_object(i, coord)"
   ]
  },
  {
   "cell_type": "code",
   "execution_count": 12,
   "metadata": {
    "collapsed": true
   },
   "outputs": [],
   "source": [
    "def get_boundaries(field, id_xmin, id_xmax, id_ymin, id_ymax):\n",
    "    '''\n",
    "    Gets boundaries for GALFIT based on field and ID #'s of objects\n",
    "    \n",
    "    Parameters:\n",
    "    -----------\n",
    "    field : string\n",
    "        GOODS_South or GOODS_North\n",
    "    id_*** : float\n",
    "        ID number of objects at boundaries of fitting region\n",
    "        \n",
    "    '''\n",
    "    \n",
    "    \n",
    "    if field == 'S':\n",
    "        catalog = '/Users/rosaliaobrien/research/website/catalogs/goodss_3dhst.v4.4.cat'\n",
    "        \n",
    "    if field == 'N':\n",
    "        catalog = '/Users/rosaliaobrien/research/website/catalogs/goodsn_3dhst.v4.4.cat'\n",
    "        \n",
    "    cat = ascii.read(catalog)\n",
    "    \n",
    "    x_min = cat[cat['id']==id_xmin]['x'].data[0]-200\n",
    "    x_max = cat[cat['id']==id_xmax]['x'].data[0]+200\n",
    "    y_min = cat[cat['id']==id_ymin]['y'].data[0]-200\n",
    "    y_max = cat[cat['id']==id_ymax]['y'].data[0]+200\n",
    "    print(int(x_min), int(x_max), int(y_min), int(y_max))"
   ]
  },
  {
   "cell_type": "code",
   "execution_count": 13,
   "metadata": {},
   "outputs": [
    {
     "name": "stdout",
     "output_type": "stream",
     "text": [
      "11066 12812 15993 16780\n"
     ]
    }
   ],
   "source": [
    "get_boundaries('S', 44042, 42221, 42221, 44042)"
   ]
  },
  {
   "cell_type": "code",
   "execution_count": null,
   "metadata": {
    "collapsed": true
   },
   "outputs": [],
   "source": []
  }
 ],
 "metadata": {
  "kernelspec": {
   "display_name": "Python 3",
   "language": "python",
   "name": "python3"
  },
  "language_info": {
   "codemirror_mode": {
    "name": "ipython",
    "version": 3
   },
   "file_extension": ".py",
   "mimetype": "text/x-python",
   "name": "python",
   "nbconvert_exporter": "python",
   "pygments_lexer": "ipython3",
   "version": "3.6.3"
  }
 },
 "nbformat": 4,
 "nbformat_minor": 2
}
