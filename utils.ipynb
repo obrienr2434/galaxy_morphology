{
 "cells": [
  {
   "cell_type": "code",
   "execution_count": 10,
   "metadata": {
    "collapsed": true
   },
   "outputs": [],
   "source": [
    "from astropy.io import ascii\n",
    "import pandas as pd"
   ]
  },
  {
   "cell_type": "code",
   "execution_count": 141,
   "metadata": {
    "collapsed": true
   },
   "outputs": [],
   "source": [
    "def get_boundaries(field, id_xmin, id_xmax, id_ymin, id_ymax):\n",
    "    '''\n",
    "    Gets boundaries for GALFIT based on field and ID #'s of objects\n",
    "    \n",
    "    Parameters:\n",
    "    -----------\n",
    "    field : string\n",
    "        GOODS_South or GOODS_North\n",
    "    id_*** : float\n",
    "        ID number of objects at boundaries of fitting region\n",
    "        \n",
    "    '''\n",
    "    \n",
    "    \n",
    "    if field == 'GOODS_South':\n",
    "        catalog = '/Users/rosaliaobrien/research/website/catalogs/goodss_3dhst.v4.4.cat'\n",
    "        \n",
    "    if field == 'GOODS_North':\n",
    "        catalog = '/Users/rosaliaobrien/research/website/catalogs/goodsn_3dhst.v4.4.cat'\n",
    "        \n",
    "    cat = ascii.read(catalog)\n",
    "    \n",
    "    x_min = cat[cat['id']==id_xmin]['x'].data[0]-100\n",
    "    x_max = cat[cat['id']==id_xmax]['x'].data[0]+100\n",
    "    y_min = cat[cat['id']==id_ymin]['y'].data[0]-100\n",
    "    y_max = cat[cat['id']==id_ymax]['y'].data[0]+100\n",
    "    print(int(x_min), int(x_max), int(y_min), int(y_max))"
   ]
  },
  {
   "cell_type": "code",
   "execution_count": 142,
   "metadata": {},
   "outputs": [
    {
     "name": "stdout",
     "output_type": "stream",
     "text": [
      "8576 9469 12862 13512\n"
     ]
    }
   ],
   "source": [
    "get_boundaries('GOODS_North', 28930, 29325, 28121, 29465)"
   ]
  },
  {
   "cell_type": "code",
   "execution_count": 143,
   "metadata": {
    "collapsed": true
   },
   "outputs": [],
   "source": [
    "def get_position(field, gid):\n",
    "    '''\n",
    "    Gets positions of objects in fitting region in pixel coord\n",
    "    \n",
    "    Parameters:\n",
    "    -----------\n",
    "    field : string\n",
    "        GOODS_South or GOODS_North\n",
    "    gid : float\n",
    "        ID number of object\n",
    "    '''\n",
    "    \n",
    "    if field == 'GOODS_South':\n",
    "        catalog = '/Users/rosaliaobrien/research/website/catalogs/goodss_3dhst.v4.4.cat'\n",
    "        \n",
    "    if field == 'GOODS_North':\n",
    "        catalog = '/Users/rosaliaobrien/research/website/catalogs/goodsn_3dhst.v4.4.cat'\n",
    "        \n",
    "    cat = ascii.read(catalog)\n",
    "    x = cat[cat['id']==gid]['x'].data[0]\n",
    "    y = cat[cat['id']==gid]['y'].data[0]\n",
    "#     print('gid'+str(gid)+' coordinates:', x, y)\n",
    "    coord = str(x)+' '+str(y)\n",
    "    return coord"
   ]
  },
  {
   "cell_type": "code",
   "execution_count": 133,
   "metadata": {
    "collapsed": true
   },
   "outputs": [],
   "source": [
    "def get_radius(field, gid):\n",
    "    if field == 'GOODS_South':\n",
    "        catalog = '/Users/rosaliaobrien/research/website/catalogs/goodss_3dhst.v4.4.cat'\n",
    "        \n",
    "    if field == 'GOODS_North':\n",
    "        catalog = '/Users/rosaliaobrien/research/website/catalogs/goodsn_3dhst.v4.4.cat'\n",
    "        \n",
    "    cat = ascii.read(catalog)\n",
    "    r = cat[cat['id']==gid]['kron_radius'].data[0]\n",
    "#     print('gid'+str(gid)+' radius:', r)\n",
    "    radius = str(r)\n",
    "    return(radius)"
   ]
  },
  {
   "cell_type": "code",
   "execution_count": 134,
   "metadata": {
    "collapsed": true
   },
   "outputs": [],
   "source": [
    "gids = [28930, 28015, 29465, 29325, 29517, 29463, 29527, 30064, 28121]"
   ]
  },
  {
   "cell_type": "code",
   "execution_count": 135,
   "metadata": {
    "collapsed": true
   },
   "outputs": [],
   "source": [
    "def write_object(gid, coord, R):\n",
    "    text='#ID: {0} \\n\\\n",
    "0) sersic            \t\t    # Object type \\n\\\n",
    " 1) {1}  1 1     # position x, y        [pixel]\\n\\\n",
    " 3) 20      1    \t\t        # total magnitude    \\n\\\n",
    " 4) {2}     1     \t\t    #     R_e              [Pixels]\\n\\\n",
    " 5) 2.00       1                # Sersic exponent (deVauc=4, expdisk=1)  \\n\\\n",
    " 9) 0.49     1                  # axis ratio (b/a)   \\n\\\n",
    "10) 59.14       1               # position angle (PA)  [Degrees: Up=0, Left=90] \\n\\\n",
    "                           '.format(gid, coord, R)\n",
    "        \n",
    "    print(text)"
   ]
  },
  {
   "cell_type": "code",
   "execution_count": 136,
   "metadata": {
    "collapsed": true
   },
   "outputs": [],
   "source": [
    "n = 'GOODS_North'"
   ]
  },
  {
   "cell_type": "code",
   "execution_count": 144,
   "metadata": {},
   "outputs": [
    {
     "name": "stdout",
     "output_type": "stream",
     "text": [
      "#ID: 28930 \n",
      "0) sersic            \t\t    # Object type \n",
      " 1) 8676.981 13143.037  1 1     # position x, y        [pixel]\n",
      " 3) 20      1    \t\t        # total magnitude    \n",
      " 4) 3.5     1     \t\t    #     R_e              [Pixels]\n",
      " 5) 2.00       1                # Sersic exponent (deVauc=4, expdisk=1)  \n",
      " 9) 0.49     1                  # axis ratio (b/a)   \n",
      "10) 59.14       1               # position angle (PA)  [Degrees: Up=0, Left=90] \n",
      "                           \n",
      "#ID: 28015 \n",
      "0) sersic            \t\t    # Object type \n",
      " 1) 9025.346 13134.051  1 1     # position x, y        [pixel]\n",
      " 3) 20      1    \t\t        # total magnitude    \n",
      " 4) 3.5     1     \t\t    #     R_e              [Pixels]\n",
      " 5) 2.00       1                # Sersic exponent (deVauc=4, expdisk=1)  \n",
      " 9) 0.49     1                  # axis ratio (b/a)   \n",
      "10) 59.14       1               # position angle (PA)  [Degrees: Up=0, Left=90] \n",
      "                           \n",
      "#ID: 29465 \n",
      "0) sersic            \t\t    # Object type \n",
      " 1) 8991.61 13412.312  1 1     # position x, y        [pixel]\n",
      " 3) 20      1    \t\t        # total magnitude    \n",
      " 4) 3.5     1     \t\t    #     R_e              [Pixels]\n",
      " 5) 2.00       1                # Sersic exponent (deVauc=4, expdisk=1)  \n",
      " 9) 0.49     1                  # axis ratio (b/a)   \n",
      "10) 59.14       1               # position angle (PA)  [Degrees: Up=0, Left=90] \n",
      "                           \n",
      "#ID: 29325 \n",
      "0) sersic            \t\t    # Object type \n",
      " 1) 9369.564 13258.342  1 1     # position x, y        [pixel]\n",
      " 3) 20      1    \t\t        # total magnitude    \n",
      " 4) 3.9     1     \t\t    #     R_e              [Pixels]\n",
      " 5) 2.00       1                # Sersic exponent (deVauc=4, expdisk=1)  \n",
      " 9) 0.49     1                  # axis ratio (b/a)   \n",
      "10) 59.14       1               # position angle (PA)  [Degrees: Up=0, Left=90] \n",
      "                           \n",
      "#ID: 29517 \n",
      "0) sersic            \t\t    # Object type \n",
      " 1) 9136.465 13208.454  1 1     # position x, y        [pixel]\n",
      " 3) 20      1    \t\t        # total magnitude    \n",
      " 4) 4.06     1     \t\t    #     R_e              [Pixels]\n",
      " 5) 2.00       1                # Sersic exponent (deVauc=4, expdisk=1)  \n",
      " 9) 0.49     1                  # axis ratio (b/a)   \n",
      "10) 59.14       1               # position angle (PA)  [Degrees: Up=0, Left=90] \n",
      "                           \n",
      "#ID: 29463 \n",
      "0) sersic            \t\t    # Object type \n",
      " 1) 9094.384 13223.215  1 1     # position x, y        [pixel]\n",
      " 3) 20      1    \t\t        # total magnitude    \n",
      " 4) 3.64     1     \t\t    #     R_e              [Pixels]\n",
      " 5) 2.00       1                # Sersic exponent (deVauc=4, expdisk=1)  \n",
      " 9) 0.49     1                  # axis ratio (b/a)   \n",
      "10) 59.14       1               # position angle (PA)  [Degrees: Up=0, Left=90] \n",
      "                           \n",
      "#ID: 29527 \n",
      "0) sersic            \t\t    # Object type \n",
      " 1) 8940.155 13246.453  1 1     # position x, y        [pixel]\n",
      " 3) 20      1    \t\t        # total magnitude    \n",
      " 4) 3.5     1     \t\t    #     R_e              [Pixels]\n",
      " 5) 2.00       1                # Sersic exponent (deVauc=4, expdisk=1)  \n",
      " 9) 0.49     1                  # axis ratio (b/a)   \n",
      "10) 59.14       1               # position angle (PA)  [Degrees: Up=0, Left=90] \n",
      "                           \n",
      "#ID: 30064 \n",
      "0) sersic            \t\t    # Object type \n",
      " 1) 8844.345 13384.501  1 1     # position x, y        [pixel]\n",
      " 3) 20      1    \t\t        # total magnitude    \n",
      " 4) 3.5     1     \t\t    #     R_e              [Pixels]\n",
      " 5) 2.00       1                # Sersic exponent (deVauc=4, expdisk=1)  \n",
      " 9) 0.49     1                  # axis ratio (b/a)   \n",
      "10) 59.14       1               # position angle (PA)  [Degrees: Up=0, Left=90] \n",
      "                           \n",
      "#ID: 28121 \n",
      "0) sersic            \t\t    # Object type \n",
      " 1) 8945.119 12962.172  1 1     # position x, y        [pixel]\n",
      " 3) 20      1    \t\t        # total magnitude    \n",
      " 4) 3.5     1     \t\t    #     R_e              [Pixels]\n",
      " 5) 2.00       1                # Sersic exponent (deVauc=4, expdisk=1)  \n",
      " 9) 0.49     1                  # axis ratio (b/a)   \n",
      "10) 59.14       1               # position angle (PA)  [Degrees: Up=0, Left=90] \n",
      "                           \n"
     ]
    }
   ],
   "source": [
    "for i in gids:\n",
    "    coord = get_position(n, i)\n",
    "    R = get_radius(n, i)\n",
    "    write_object(i, coord, R)"
   ]
  },
  {
   "cell_type": "code",
   "execution_count": null,
   "metadata": {
    "collapsed": true
   },
   "outputs": [],
   "source": []
  }
 ],
 "metadata": {
  "kernelspec": {
   "display_name": "Python 3",
   "language": "python",
   "name": "python3"
  },
  "language_info": {
   "codemirror_mode": {
    "name": "ipython",
    "version": 3
   },
   "file_extension": ".py",
   "mimetype": "text/x-python",
   "name": "python",
   "nbconvert_exporter": "python",
   "pygments_lexer": "ipython3",
   "version": "3.6.3"
  }
 },
 "nbformat": 4,
 "nbformat_minor": 2
}
